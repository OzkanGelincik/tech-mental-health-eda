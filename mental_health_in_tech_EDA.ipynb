{
 "cells": [
  {
   "cell_type": "markdown",
   "id": "c667614a",
   "metadata": {},
   "source": [
    "<h1 style=\"text-align:center;\">Importing Libraries</h1>"
   ]
  },
  {
   "cell_type": "code",
   "execution_count": 1594,
   "id": "4c04645e",
   "metadata": {},
   "outputs": [],
   "source": [
    "import numpy as np\n",
    "import pandas as pd\n",
    "import matplotlib.pyplot as plt\n",
    "import seaborn as sns # type: ignore"
   ]
  },
  {
   "cell_type": "markdown",
   "id": "e055d6d8",
   "metadata": {},
   "source": [
    "<h1 style=\"text-align:center;\">Dataset Information</h1>\n",
    "\n",
    "This dataset is from a 2014 survey that measures attitudes towards mental health and frequency of mental health disorders in the tech workplace. \n",
    "\n",
    "Content:\n",
    "\n",
    "This dataset contains the following data:\n",
    "\n",
    "* `Timestamp`\n",
    "\n",
    "* `Age`\n",
    "\n",
    "* `Gender`\n",
    "\n",
    "* `Country`\n",
    "\n",
    "* `state`: If you live in the United States, which state or territory do you live in?\n",
    "\n",
    "* `self_employed`: Are you self-employed?\n",
    "\n",
    "* `family_history`: Do you have a family history of mental illness?\n",
    "\n",
    "* `treatment`: Have you sought treatment for a mental health condition?\n",
    "\n",
    "* `work_interfere`: If you have a mental health condition, do you feel that it interferes with your work?\n",
    "\n",
    "* `no_employees`: How many employees does your company or organization have?\n",
    "\n",
    "* `remote_work`: Do you work remotely (outside of an office) at least 50% of the time?\n",
    "\n",
    "* `tech_company`: Is your employer primarily a tech company/organization?\n",
    "\n",
    "* `benefits`: Does your employer provide mental health benefits?\n",
    "\n",
    "* `care_options`: Do you know the options for mental health care your employer provides?\n",
    "\n",
    "* `wellness_program`: Has your employer ever discussed mental health as part of an employee wellness program?\n",
    "\n",
    "* `seek_help`: Does your employer provide resources to learn more about mental health issues and how to seek help?\n",
    "\n",
    "* `anonymity`: Is your anonymity protected if you choose to take advantage of mental health or substance abuse treatment resources?\n",
    "\n",
    "* `leave`: How easy is it for you to take medical leave for a mental health condition?\n",
    "\n",
    "* `mental_health_consequence`: Do you think that discussing a mental health issue with your employer would have negative consequences?\n",
    "\n",
    "* `phys_health_consequence`: Do you think that discussing a physical health issue with your employer would have negative consequences?\n",
    "\n",
    "* `coworkers`: Would you be willing to discuss a mental health issue with your coworkers?\n",
    "\n",
    "* `supervisor`: Would you be willing to discuss a mental health issue with your direct supervisor(s)?\n",
    "\n",
    "* `mental_health_interview`: Would you bring up a mental health issue with a potential employer in an interview?\n",
    "\n",
    "* `phys_health_interview`: Would you bring up a physical health issue with a potential employer in an interview?\n",
    "\n",
    "* `mental_vs_physical`: Do you feel that your employer takes mental health as seriously as physical health?\n",
    "\n",
    "* `obs_consequence`: Have you heard of or observed negative consequences for coworkers with mental health conditions in your workplace?\n",
    "\n",
    "* `comments`: Any additional notes or comments"
   ]
  },
  {
   "cell_type": "markdown",
   "id": "e27dbcc4",
   "metadata": {},
   "source": [
    "<h1 style=\"text-align:center;\">Inspecting the Data</h1>"
   ]
  },
  {
   "cell_type": "markdown",
   "id": "a370a0f4",
   "metadata": {},
   "source": [
    "* Reading the data and parsing the `Timestamp` variable"
   ]
  },
  {
   "cell_type": "code",
   "execution_count": 1595,
   "id": "b9d90a97",
   "metadata": {},
   "outputs": [
    {
     "name": "stdout",
     "output_type": "stream",
     "text": [
      "datetime64[ns]\n"
     ]
    }
   ],
   "source": [
    "df = pd.read_csv(\"survey.csv\", parse_dates=[\"Timestamp\"])\n",
    "print(df[\"Timestamp\"].dtype)  # datetime64[ns] if it worked"
   ]
  },
  {
   "cell_type": "markdown",
   "id": "535c05a6",
   "metadata": {},
   "source": [
    "* Inspecting the data"
   ]
  },
  {
   "cell_type": "code",
   "execution_count": 1596,
   "id": "f78e26b3",
   "metadata": {},
   "outputs": [
    {
     "data": {
      "text/html": [
       "<div>\n",
       "<style scoped>\n",
       "    .dataframe tbody tr th:only-of-type {\n",
       "        vertical-align: middle;\n",
       "    }\n",
       "\n",
       "    .dataframe tbody tr th {\n",
       "        vertical-align: top;\n",
       "    }\n",
       "\n",
       "    .dataframe thead th {\n",
       "        text-align: right;\n",
       "    }\n",
       "</style>\n",
       "<table border=\"1\" class=\"dataframe\">\n",
       "  <thead>\n",
       "    <tr style=\"text-align: right;\">\n",
       "      <th></th>\n",
       "      <th>Timestamp</th>\n",
       "      <th>Age</th>\n",
       "      <th>Gender</th>\n",
       "      <th>Country</th>\n",
       "      <th>state</th>\n",
       "      <th>self_employed</th>\n",
       "      <th>family_history</th>\n",
       "      <th>treatment</th>\n",
       "      <th>work_interfere</th>\n",
       "      <th>no_employees</th>\n",
       "      <th>...</th>\n",
       "      <th>leave</th>\n",
       "      <th>mental_health_consequence</th>\n",
       "      <th>phys_health_consequence</th>\n",
       "      <th>coworkers</th>\n",
       "      <th>supervisor</th>\n",
       "      <th>mental_health_interview</th>\n",
       "      <th>phys_health_interview</th>\n",
       "      <th>mental_vs_physical</th>\n",
       "      <th>obs_consequence</th>\n",
       "      <th>comments</th>\n",
       "    </tr>\n",
       "  </thead>\n",
       "  <tbody>\n",
       "    <tr>\n",
       "      <th>0</th>\n",
       "      <td>2014-08-27 11:29:31</td>\n",
       "      <td>37</td>\n",
       "      <td>Female</td>\n",
       "      <td>United States</td>\n",
       "      <td>IL</td>\n",
       "      <td>NaN</td>\n",
       "      <td>No</td>\n",
       "      <td>Yes</td>\n",
       "      <td>Often</td>\n",
       "      <td>6-25</td>\n",
       "      <td>...</td>\n",
       "      <td>Somewhat easy</td>\n",
       "      <td>No</td>\n",
       "      <td>No</td>\n",
       "      <td>Some of them</td>\n",
       "      <td>Yes</td>\n",
       "      <td>No</td>\n",
       "      <td>Maybe</td>\n",
       "      <td>Yes</td>\n",
       "      <td>No</td>\n",
       "      <td>NaN</td>\n",
       "    </tr>\n",
       "    <tr>\n",
       "      <th>1</th>\n",
       "      <td>2014-08-27 11:29:37</td>\n",
       "      <td>44</td>\n",
       "      <td>M</td>\n",
       "      <td>United States</td>\n",
       "      <td>IN</td>\n",
       "      <td>NaN</td>\n",
       "      <td>No</td>\n",
       "      <td>No</td>\n",
       "      <td>Rarely</td>\n",
       "      <td>More than 1000</td>\n",
       "      <td>...</td>\n",
       "      <td>Don't know</td>\n",
       "      <td>Maybe</td>\n",
       "      <td>No</td>\n",
       "      <td>No</td>\n",
       "      <td>No</td>\n",
       "      <td>No</td>\n",
       "      <td>No</td>\n",
       "      <td>Don't know</td>\n",
       "      <td>No</td>\n",
       "      <td>NaN</td>\n",
       "    </tr>\n",
       "    <tr>\n",
       "      <th>2</th>\n",
       "      <td>2014-08-27 11:29:44</td>\n",
       "      <td>32</td>\n",
       "      <td>Male</td>\n",
       "      <td>Canada</td>\n",
       "      <td>NaN</td>\n",
       "      <td>NaN</td>\n",
       "      <td>No</td>\n",
       "      <td>No</td>\n",
       "      <td>Rarely</td>\n",
       "      <td>6-25</td>\n",
       "      <td>...</td>\n",
       "      <td>Somewhat difficult</td>\n",
       "      <td>No</td>\n",
       "      <td>No</td>\n",
       "      <td>Yes</td>\n",
       "      <td>Yes</td>\n",
       "      <td>Yes</td>\n",
       "      <td>Yes</td>\n",
       "      <td>No</td>\n",
       "      <td>No</td>\n",
       "      <td>NaN</td>\n",
       "    </tr>\n",
       "    <tr>\n",
       "      <th>3</th>\n",
       "      <td>2014-08-27 11:29:46</td>\n",
       "      <td>31</td>\n",
       "      <td>Male</td>\n",
       "      <td>United Kingdom</td>\n",
       "      <td>NaN</td>\n",
       "      <td>NaN</td>\n",
       "      <td>Yes</td>\n",
       "      <td>Yes</td>\n",
       "      <td>Often</td>\n",
       "      <td>26-100</td>\n",
       "      <td>...</td>\n",
       "      <td>Somewhat difficult</td>\n",
       "      <td>Yes</td>\n",
       "      <td>Yes</td>\n",
       "      <td>Some of them</td>\n",
       "      <td>No</td>\n",
       "      <td>Maybe</td>\n",
       "      <td>Maybe</td>\n",
       "      <td>No</td>\n",
       "      <td>Yes</td>\n",
       "      <td>NaN</td>\n",
       "    </tr>\n",
       "    <tr>\n",
       "      <th>4</th>\n",
       "      <td>2014-08-27 11:30:22</td>\n",
       "      <td>31</td>\n",
       "      <td>Male</td>\n",
       "      <td>United States</td>\n",
       "      <td>TX</td>\n",
       "      <td>NaN</td>\n",
       "      <td>No</td>\n",
       "      <td>No</td>\n",
       "      <td>Never</td>\n",
       "      <td>100-500</td>\n",
       "      <td>...</td>\n",
       "      <td>Don't know</td>\n",
       "      <td>No</td>\n",
       "      <td>No</td>\n",
       "      <td>Some of them</td>\n",
       "      <td>Yes</td>\n",
       "      <td>Yes</td>\n",
       "      <td>Yes</td>\n",
       "      <td>Don't know</td>\n",
       "      <td>No</td>\n",
       "      <td>NaN</td>\n",
       "    </tr>\n",
       "    <tr>\n",
       "      <th>5</th>\n",
       "      <td>2014-08-27 11:31:22</td>\n",
       "      <td>33</td>\n",
       "      <td>Male</td>\n",
       "      <td>United States</td>\n",
       "      <td>TN</td>\n",
       "      <td>NaN</td>\n",
       "      <td>Yes</td>\n",
       "      <td>No</td>\n",
       "      <td>Sometimes</td>\n",
       "      <td>6-25</td>\n",
       "      <td>...</td>\n",
       "      <td>Don't know</td>\n",
       "      <td>No</td>\n",
       "      <td>No</td>\n",
       "      <td>Yes</td>\n",
       "      <td>Yes</td>\n",
       "      <td>No</td>\n",
       "      <td>Maybe</td>\n",
       "      <td>Don't know</td>\n",
       "      <td>No</td>\n",
       "      <td>NaN</td>\n",
       "    </tr>\n",
       "    <tr>\n",
       "      <th>6</th>\n",
       "      <td>2014-08-27 11:31:50</td>\n",
       "      <td>35</td>\n",
       "      <td>Female</td>\n",
       "      <td>United States</td>\n",
       "      <td>MI</td>\n",
       "      <td>NaN</td>\n",
       "      <td>Yes</td>\n",
       "      <td>Yes</td>\n",
       "      <td>Sometimes</td>\n",
       "      <td>1-5</td>\n",
       "      <td>...</td>\n",
       "      <td>Somewhat difficult</td>\n",
       "      <td>Maybe</td>\n",
       "      <td>Maybe</td>\n",
       "      <td>Some of them</td>\n",
       "      <td>No</td>\n",
       "      <td>No</td>\n",
       "      <td>No</td>\n",
       "      <td>Don't know</td>\n",
       "      <td>No</td>\n",
       "      <td>NaN</td>\n",
       "    </tr>\n",
       "    <tr>\n",
       "      <th>7</th>\n",
       "      <td>2014-08-27 11:32:05</td>\n",
       "      <td>39</td>\n",
       "      <td>M</td>\n",
       "      <td>Canada</td>\n",
       "      <td>NaN</td>\n",
       "      <td>NaN</td>\n",
       "      <td>No</td>\n",
       "      <td>No</td>\n",
       "      <td>Never</td>\n",
       "      <td>1-5</td>\n",
       "      <td>...</td>\n",
       "      <td>Don't know</td>\n",
       "      <td>No</td>\n",
       "      <td>No</td>\n",
       "      <td>No</td>\n",
       "      <td>No</td>\n",
       "      <td>No</td>\n",
       "      <td>No</td>\n",
       "      <td>No</td>\n",
       "      <td>No</td>\n",
       "      <td>NaN</td>\n",
       "    </tr>\n",
       "    <tr>\n",
       "      <th>8</th>\n",
       "      <td>2014-08-27 11:32:39</td>\n",
       "      <td>42</td>\n",
       "      <td>Female</td>\n",
       "      <td>United States</td>\n",
       "      <td>IL</td>\n",
       "      <td>NaN</td>\n",
       "      <td>Yes</td>\n",
       "      <td>Yes</td>\n",
       "      <td>Sometimes</td>\n",
       "      <td>100-500</td>\n",
       "      <td>...</td>\n",
       "      <td>Very difficult</td>\n",
       "      <td>Maybe</td>\n",
       "      <td>No</td>\n",
       "      <td>Yes</td>\n",
       "      <td>Yes</td>\n",
       "      <td>No</td>\n",
       "      <td>Maybe</td>\n",
       "      <td>No</td>\n",
       "      <td>No</td>\n",
       "      <td>NaN</td>\n",
       "    </tr>\n",
       "    <tr>\n",
       "      <th>9</th>\n",
       "      <td>2014-08-27 11:32:43</td>\n",
       "      <td>23</td>\n",
       "      <td>Male</td>\n",
       "      <td>Canada</td>\n",
       "      <td>NaN</td>\n",
       "      <td>NaN</td>\n",
       "      <td>No</td>\n",
       "      <td>No</td>\n",
       "      <td>Never</td>\n",
       "      <td>26-100</td>\n",
       "      <td>...</td>\n",
       "      <td>Don't know</td>\n",
       "      <td>No</td>\n",
       "      <td>No</td>\n",
       "      <td>Yes</td>\n",
       "      <td>Yes</td>\n",
       "      <td>Maybe</td>\n",
       "      <td>Maybe</td>\n",
       "      <td>Yes</td>\n",
       "      <td>No</td>\n",
       "      <td>NaN</td>\n",
       "    </tr>\n",
       "  </tbody>\n",
       "</table>\n",
       "<p>10 rows × 27 columns</p>\n",
       "</div>"
      ],
      "text/plain": [
       "            Timestamp  Age  Gender         Country state self_employed  \\\n",
       "0 2014-08-27 11:29:31   37  Female   United States    IL           NaN   \n",
       "1 2014-08-27 11:29:37   44       M   United States    IN           NaN   \n",
       "2 2014-08-27 11:29:44   32    Male          Canada   NaN           NaN   \n",
       "3 2014-08-27 11:29:46   31    Male  United Kingdom   NaN           NaN   \n",
       "4 2014-08-27 11:30:22   31    Male   United States    TX           NaN   \n",
       "5 2014-08-27 11:31:22   33    Male   United States    TN           NaN   \n",
       "6 2014-08-27 11:31:50   35  Female   United States    MI           NaN   \n",
       "7 2014-08-27 11:32:05   39       M          Canada   NaN           NaN   \n",
       "8 2014-08-27 11:32:39   42  Female   United States    IL           NaN   \n",
       "9 2014-08-27 11:32:43   23    Male          Canada   NaN           NaN   \n",
       "\n",
       "  family_history treatment work_interfere    no_employees  ...  \\\n",
       "0             No       Yes          Often            6-25  ...   \n",
       "1             No        No         Rarely  More than 1000  ...   \n",
       "2             No        No         Rarely            6-25  ...   \n",
       "3            Yes       Yes          Often          26-100  ...   \n",
       "4             No        No          Never         100-500  ...   \n",
       "5            Yes        No      Sometimes            6-25  ...   \n",
       "6            Yes       Yes      Sometimes             1-5  ...   \n",
       "7             No        No          Never             1-5  ...   \n",
       "8            Yes       Yes      Sometimes         100-500  ...   \n",
       "9             No        No          Never          26-100  ...   \n",
       "\n",
       "                leave mental_health_consequence phys_health_consequence  \\\n",
       "0       Somewhat easy                        No                      No   \n",
       "1          Don't know                     Maybe                      No   \n",
       "2  Somewhat difficult                        No                      No   \n",
       "3  Somewhat difficult                       Yes                     Yes   \n",
       "4          Don't know                        No                      No   \n",
       "5          Don't know                        No                      No   \n",
       "6  Somewhat difficult                     Maybe                   Maybe   \n",
       "7          Don't know                        No                      No   \n",
       "8      Very difficult                     Maybe                      No   \n",
       "9          Don't know                        No                      No   \n",
       "\n",
       "      coworkers supervisor mental_health_interview phys_health_interview  \\\n",
       "0  Some of them        Yes                      No                 Maybe   \n",
       "1            No         No                      No                    No   \n",
       "2           Yes        Yes                     Yes                   Yes   \n",
       "3  Some of them         No                   Maybe                 Maybe   \n",
       "4  Some of them        Yes                     Yes                   Yes   \n",
       "5           Yes        Yes                      No                 Maybe   \n",
       "6  Some of them         No                      No                    No   \n",
       "7            No         No                      No                    No   \n",
       "8           Yes        Yes                      No                 Maybe   \n",
       "9           Yes        Yes                   Maybe                 Maybe   \n",
       "\n",
       "  mental_vs_physical obs_consequence comments  \n",
       "0                Yes              No      NaN  \n",
       "1         Don't know              No      NaN  \n",
       "2                 No              No      NaN  \n",
       "3                 No             Yes      NaN  \n",
       "4         Don't know              No      NaN  \n",
       "5         Don't know              No      NaN  \n",
       "6         Don't know              No      NaN  \n",
       "7                 No              No      NaN  \n",
       "8                 No              No      NaN  \n",
       "9                Yes              No      NaN  \n",
       "\n",
       "[10 rows x 27 columns]"
      ]
     },
     "execution_count": 1596,
     "metadata": {},
     "output_type": "execute_result"
    }
   ],
   "source": [
    "df.head(n=10)"
   ]
  },
  {
   "cell_type": "markdown",
   "id": "e1602d65",
   "metadata": {},
   "source": [
    "<h1 style=\"text-align:center;\">Checking shape, missing values, and unique values</h1>"
   ]
  },
  {
   "cell_type": "markdown",
   "id": "686ec791",
   "metadata": {},
   "source": [
    "* Inspecting the shape of the data"
   ]
  },
  {
   "cell_type": "code",
   "execution_count": 1597,
   "id": "3cda49d1",
   "metadata": {},
   "outputs": [
    {
     "data": {
      "text/plain": [
       "(1259, 27)"
      ]
     },
     "execution_count": 1597,
     "metadata": {},
     "output_type": "execute_result"
    }
   ],
   "source": [
    "df.shape"
   ]
  },
  {
   "cell_type": "markdown",
   "id": "02f8dd40",
   "metadata": {},
   "source": [
    "* Inspecting missingness in the data"
   ]
  },
  {
   "cell_type": "code",
   "execution_count": 1598,
   "id": "68b53a25",
   "metadata": {},
   "outputs": [
    {
     "data": {
      "text/plain": [
       "Timestamp                       0\n",
       "Age                             0\n",
       "Gender                          0\n",
       "Country                         0\n",
       "state                         515\n",
       "self_employed                  18\n",
       "family_history                  0\n",
       "treatment                       0\n",
       "work_interfere                264\n",
       "no_employees                    0\n",
       "remote_work                     0\n",
       "tech_company                    0\n",
       "benefits                        0\n",
       "care_options                    0\n",
       "wellness_program                0\n",
       "seek_help                       0\n",
       "anonymity                       0\n",
       "leave                           0\n",
       "mental_health_consequence       0\n",
       "phys_health_consequence         0\n",
       "coworkers                       0\n",
       "supervisor                      0\n",
       "mental_health_interview         0\n",
       "phys_health_interview           0\n",
       "mental_vs_physical              0\n",
       "obs_consequence                 0\n",
       "comments                     1095\n",
       "dtype: int64"
      ]
     },
     "execution_count": 1598,
     "metadata": {},
     "output_type": "execute_result"
    }
   ],
   "source": [
    "df.isnull().sum()"
   ]
  },
  {
   "cell_type": "markdown",
   "id": "a469b780",
   "metadata": {},
   "source": [
    "#### Checking unique values of `benefits`, `care_options`, `seek_helo`, and `anonymity` variables"
   ]
  },
  {
   "cell_type": "markdown",
   "id": "d21dd10c",
   "metadata": {},
   "source": [
    "* These variables will be used to construct feature(s) that measures the level of support an employee receives"
   ]
  },
  {
   "cell_type": "code",
   "execution_count": 1599,
   "id": "7cee233c",
   "metadata": {},
   "outputs": [
    {
     "name": "stdout",
     "output_type": "stream",
     "text": [
      "['Yes' \"Don't know\" 'No']\n",
      "['Not sure' 'No' 'Yes']\n",
      "['Yes' \"Don't know\" 'No']\n",
      "['Yes' \"Don't know\" 'No']\n",
      "['No' \"Don't know\" 'Yes']\n"
     ]
    }
   ],
   "source": [
    "print(df[\"benefits\"].unique())\n",
    "print(df[\"care_options\"].unique())\n",
    "print((df[\"seek_help\"].unique()))\n",
    "print(df[\"anonymity\"].unique())\n",
    "print(df[\"wellness_program\"].unique())"
   ]
  },
  {
   "cell_type": "markdown",
   "id": "db848bbd",
   "metadata": {},
   "source": [
    "**Note: feature values are uniform and clean, requiring no further cleaning**"
   ]
  },
  {
   "cell_type": "markdown",
   "id": "a107ee8c",
   "metadata": {},
   "source": [
    "#### Checking unique values of `mental_health_consequence`, `phys_health_consequence`, `mental_health_interview`, and `phys_health_interview` variables"
   ]
  },
  {
   "cell_type": "markdown",
   "id": "ba0e670e",
   "metadata": {},
   "source": [
    "* These variables will be used to construct feature(s) that measures the level of stigma an employee experiences"
   ]
  },
  {
   "cell_type": "code",
   "execution_count": 1600,
   "id": "eaeff0ad",
   "metadata": {},
   "outputs": [
    {
     "name": "stdout",
     "output_type": "stream",
     "text": [
      "['No' 'Maybe' 'Yes']\n",
      "['No' 'Yes' 'Maybe']\n",
      "['No' 'Yes' 'Maybe']\n",
      "['Maybe' 'No' 'Yes']\n"
     ]
    }
   ],
   "source": [
    "print(df[\"mental_health_consequence\"].unique())\n",
    "print(df[\"phys_health_consequence\"].unique())\n",
    "print((df[\"mental_health_interview\"].unique()))\n",
    "print(df[\"phys_health_interview\"].unique())"
   ]
  },
  {
   "cell_type": "markdown",
   "id": "e30750f6",
   "metadata": {},
   "source": [
    "<span style=\"color: pink\">**Note: feature values are uniform and clean, requiring no further cleaning**</span>"
   ]
  },
  {
   "cell_type": "markdown",
   "id": "c9ac7cfd",
   "metadata": {},
   "source": [
    "<h1 style=\"text-align:center;\">Feature Engineering</h1>"
   ]
  },
  {
   "cell_type": "markdown",
   "id": "bfe5ff2f",
   "metadata": {},
   "source": [
    "## 0. Defining lookup dictionaries (what to turn each string into)"
   ]
  },
  {
   "cell_type": "markdown",
   "id": "5f506730",
   "metadata": {},
   "source": [
    "`support_map`:\n",
    "* Creates a dictionary that maps text answers to numbers.\n",
    "* Here, any “supportive” answer (\"yes\") becomes 1. Everything else becomes 0.\n",
    "\n",
    "`consequence_map`:\n",
    "* Another dictionary for a different kind of question.\n",
    "* Saying Yes/Maybe to “negative consequences” = more stigma → code as 1.\n",
    "* Saying No = no stigma → 0.\n",
    "\n",
    "`willingness_map`:\n",
    "* For “would you discuss?” questions:\n",
    "* Yes (willing) = 0 (not unfavorable),\n",
    "* Maybe/No (reluctance) = 1 (unfavorable)."
   ]
  },
  {
   "cell_type": "code",
   "execution_count": 1601,
   "id": "e437cbe8",
   "metadata": {},
   "outputs": [],
   "source": [
    "# Policies/visibility (supportive = 1)\n",
    "support_map = {\"Yes\": 1, \"No\": 0, \"Don't know\":0, \"Not sure\": 0}\n",
    "\n",
    "# 2) Negative consequence items (stigma = 1)\n",
    "# e.g., \"Do you think discussing mental health could have negative consequences?\"\n",
    "consequence_map = {\"Yes\": 1, \"Maybe\": 1, \"No\": 0}\n",
    "\n",
    "# 3) Willingness/comfort items (unfavorable reluctance = 1)\n",
    "# e.g., \"Would you bring up a mental health issue with your employer?\"\n",
    "willingness_map = {\"Yes\": 0, \"Maybe\": 1, \"No\": 1}"
   ]
  },
  {
   "cell_type": "markdown",
   "id": "888078f0",
   "metadata": {},
   "source": [
    "## 1. Building a support score (0-5)\n",
    "\n",
    "* `.map(support_map)` → convert strings to 0/1 using the dictionary.\n",
    "* `.fillna(0)` → if a value didn’t match (missing or unexpected text), treat it as 0.\n",
    "* Repeat for four policy columns, then add them together.\n",
    "* Result: `support_score` is 0–5 (how many supportive policies a person reports)."
   ]
  },
  {
   "cell_type": "code",
   "execution_count": 1602,
   "id": "590a972f",
   "metadata": {},
   "outputs": [],
   "source": [
    "# support_score indicates the level of support an employee receives (higher is better)\n",
    "df['support_score'] = (\n",
    "    df[\"benefits\"].map(support_map).fillna(0) + # benefits: Does your employer provide mental health benefits?\n",
    "    df[\"care_options\"].map(support_map).fillna(0) + # care_options: Do you know the options for mental health care your employer provides?\n",
    "    df[\"seek_help\"].map(support_map).fillna(0) + # seek_help: Does your employer provide resources to learn more about mental health issues and how to seek help?\n",
    "    df[\"anonymity\"].map(support_map).fillna(0) + # anonymity: Is your anonymity protected if you choose to take advantage of mental health or substance abuse treatment resources?\n",
    "    df[\"wellness_program\"].map(support_map).fillna(0) \n",
    ")"
   ]
  },
  {
   "cell_type": "markdown",
   "id": "851bfa6d",
   "metadata": {},
   "source": [
    "* Confirming the distribution of the `support_score` within the sample"
   ]
  },
  {
   "cell_type": "code",
   "execution_count": 1603,
   "id": "74b14fe9",
   "metadata": {},
   "outputs": [
    {
     "data": {
      "text/plain": [
       "support_score\n",
       "0    517\n",
       "1    251\n",
       "2    203\n",
       "3    115\n",
       "4     92\n",
       "5     81\n",
       "Name: count, dtype: int64"
      ]
     },
     "execution_count": 1603,
     "metadata": {},
     "output_type": "execute_result"
    }
   ],
   "source": [
    "# Check the distributions\n",
    "df[\"support_score\"].value_counts(dropna=False).sort_index()"
   ]
  },
  {
   "cell_type": "code",
   "execution_count": 1604,
   "id": "aee563bb",
   "metadata": {},
   "outputs": [
    {
     "data": {
      "text/html": [
       "<div>\n",
       "<style scoped>\n",
       "    .dataframe tbody tr th:only-of-type {\n",
       "        vertical-align: middle;\n",
       "    }\n",
       "\n",
       "    .dataframe tbody tr th {\n",
       "        vertical-align: top;\n",
       "    }\n",
       "\n",
       "    .dataframe thead th {\n",
       "        text-align: right;\n",
       "    }\n",
       "</style>\n",
       "<table border=\"1\" class=\"dataframe\">\n",
       "  <thead>\n",
       "    <tr style=\"text-align: right;\">\n",
       "      <th></th>\n",
       "      <th>benefits</th>\n",
       "      <th>care_options</th>\n",
       "      <th>seek_help</th>\n",
       "      <th>anonymity</th>\n",
       "      <th>support_score</th>\n",
       "    </tr>\n",
       "  </thead>\n",
       "  <tbody>\n",
       "    <tr>\n",
       "      <th>0</th>\n",
       "      <td>Yes</td>\n",
       "      <td>Not sure</td>\n",
       "      <td>Yes</td>\n",
       "      <td>Yes</td>\n",
       "      <td>3</td>\n",
       "    </tr>\n",
       "    <tr>\n",
       "      <th>1</th>\n",
       "      <td>Don't know</td>\n",
       "      <td>No</td>\n",
       "      <td>Don't know</td>\n",
       "      <td>Don't know</td>\n",
       "      <td>0</td>\n",
       "    </tr>\n",
       "    <tr>\n",
       "      <th>2</th>\n",
       "      <td>No</td>\n",
       "      <td>No</td>\n",
       "      <td>No</td>\n",
       "      <td>Don't know</td>\n",
       "      <td>0</td>\n",
       "    </tr>\n",
       "    <tr>\n",
       "      <th>3</th>\n",
       "      <td>No</td>\n",
       "      <td>Yes</td>\n",
       "      <td>No</td>\n",
       "      <td>No</td>\n",
       "      <td>1</td>\n",
       "    </tr>\n",
       "    <tr>\n",
       "      <th>4</th>\n",
       "      <td>Yes</td>\n",
       "      <td>No</td>\n",
       "      <td>Don't know</td>\n",
       "      <td>Don't know</td>\n",
       "      <td>1</td>\n",
       "    </tr>\n",
       "  </tbody>\n",
       "</table>\n",
       "</div>"
      ],
      "text/plain": [
       "     benefits care_options   seek_help   anonymity  support_score\n",
       "0         Yes     Not sure         Yes         Yes              3\n",
       "1  Don't know           No  Don't know  Don't know              0\n",
       "2          No           No          No  Don't know              0\n",
       "3          No          Yes          No          No              1\n",
       "4         Yes           No  Don't know  Don't know              1"
      ]
     },
     "execution_count": 1604,
     "metadata": {},
     "output_type": "execute_result"
    }
   ],
   "source": [
    "# See the first few rows of what got produced\n",
    "df[[\"benefits\",\"care_options\",\"seek_help\",\"anonymity\",\"support_score\"]].head()"
   ]
  },
  {
   "cell_type": "markdown",
   "id": "1ae2c3fa",
   "metadata": {},
   "source": [
    "## 2. Building a stigma index (0-4)\n",
    "\n",
    "* Same idea: map → fill missing with 0 → sum.\n",
    "* Combines two “consequence” items and two “willingness” items into one score.\n",
    "* Larger number = more stigma/reluctance overall."
   ]
  },
  {
   "cell_type": "code",
   "execution_count": 1605,
   "id": "64b44eb2",
   "metadata": {},
   "outputs": [],
   "source": [
    "# stigma_index indicates the level of stigma an employee encounters (higher is worse)\n",
    "df['stigma_index'] = (\n",
    "    df['mental_health_consequence'].map(consequence_map).fillna(0) + # mental_health_consequence: Do you think that discussing a mental health issue with your employer would have negative consequences?\n",
    "    df['phys_health_consequence'].map(consequence_map).fillna(0) + # phys_health_consequence: Do you think that discussing a physical health issue with your employer would have negative consequences?\n",
    "    df['mental_health_interview'].map(willingness_map).fillna(0) + # mental_health_interview: Would you bring up a mental health issue with a potential employer in an interview?\n",
    "    df['phys_health_interview'].map(willingness_map).fillna(0) # phys_health_interview: Would you bring up a physical health issue with a potential employer in an interview?\n",
    ")"
   ]
  },
  {
   "cell_type": "markdown",
   "id": "dd6d7eff",
   "metadata": {},
   "source": [
    "* Confirming the distribution of the `stigma_index` within the sample"
   ]
  },
  {
   "cell_type": "code",
   "execution_count": 1606,
   "id": "0cd17afc",
   "metadata": {},
   "outputs": [
    {
     "data": {
      "text/plain": [
       "stigma_index\n",
       "0     32\n",
       "1     71\n",
       "2    469\n",
       "3    382\n",
       "4    305\n",
       "Name: count, dtype: int64"
      ]
     },
     "execution_count": 1606,
     "metadata": {},
     "output_type": "execute_result"
    }
   ],
   "source": [
    "df[\"stigma_index\"].value_counts(dropna=False).sort_index()"
   ]
  },
  {
   "cell_type": "markdown",
   "id": "cb51361a",
   "metadata": {},
   "source": [
    "## 3. Building parity gap features (mental vs physical)\n",
    "\n",
    "#### 1. Consequence parity gap\n",
    "\n",
    "* Take the coded mental consequence score minus the physical one.\n",
    "* Positive result → mental health is treated worse than physical (more “yes/maybe” to negative consequences for mental)."
   ]
  },
  {
   "cell_type": "code",
   "execution_count": 1607,
   "id": "ba9cbdc8",
   "metadata": {},
   "outputs": [],
   "source": [
    "df[\"parity_gap_consequence\"] = (\n",
    "    df[\"mental_health_consequence\"].map(consequence_map).fillna(0) - # mental_health_consequence: Do you think that discussing a mental health issue with your employer would have negative consequences?\n",
    "    df[\"phys_health_consequence\"].map(consequence_map).fillna(0) # phys_health_consequence: Do you think that discussing a physical health issue with your employer would have negative consequences?\n",
    ")"
   ]
  },
  {
   "cell_type": "code",
   "execution_count": 1608,
   "id": "878c7b11",
   "metadata": {},
   "outputs": [
    {
     "data": {
      "text/plain": [
       "array([ 0,  1, -1])"
      ]
     },
     "execution_count": 1608,
     "metadata": {},
     "output_type": "execute_result"
    }
   ],
   "source": [
    "df[\"parity_gap_consequence\"].unique()"
   ]
  },
  {
   "cell_type": "markdown",
   "id": "4b04359e",
   "metadata": {},
   "source": [
    "* Converting the `parity_gap_consequence` to categorical for plotting"
   ]
  },
  {
   "cell_type": "code",
   "execution_count": 1609,
   "id": "5643a074",
   "metadata": {},
   "outputs": [],
   "source": [
    "from pandas.api.types import CategoricalDtype\n",
    "\n",
    "gap_label = {-1: \"Physical safer\", 0: \"No gap\", 1: \"Mental worse\"}\n",
    "order_lbl = [\"Physical safer\", \"No gap\", \"Mental worse\"]\n",
    "gap_dtype = CategoricalDtype(order_lbl, ordered=True)\n",
    "\n",
    "# Consequence gap: numeric -> labels -> ordered categorical\n",
    "s = pd.to_numeric(df[\"parity_gap_consequence\"], errors=\"coerce\")\n",
    "s = s.map(gap_label)\n",
    "df[\"parity_gap_consequence_cat\"] = s.astype(gap_dtype)\n"
   ]
  },
  {
   "cell_type": "markdown",
   "id": "05c07c6d",
   "metadata": {},
   "source": [
    "\n",
    "<span style=\"color: pink\">Values must match exactly `(-1, 0, 1)`. Anything else becomes `NaN`. However, since there is no `NaN`s, we don't have to assign a category to them. However, If you ever want an explicit “Unknown” bucket, add it to the dtype and fill:</span>"
   ]
  },
  {
   "cell_type": "code",
   "execution_count": 1610,
   "id": "2c022602",
   "metadata": {},
   "outputs": [],
   "source": [
    "\n",
    "# Keep this commented out\n",
    "# add at dtype definition time\n",
    "# gap_dtype_unknown = CategoricalDtype(order_lbl + [\"Unknown\"], ordered=True)\n",
    "\n",
    "# s = pd.to_numeric(df[\"parity_gap_consequence\"], errors=\"coerce\").map(gap_label)\n",
    "# df[\"parity_gap_consequence_cat\"] = s.fillna(\"Unknown\").astype(gap_dtype_unknown)\n",
    "# or: s.astype(gap_dtype_unknown).cat.add_categories([\"Unknown\"]).fillna(\"Unknown\")"
   ]
  },
  {
   "cell_type": "markdown",
   "id": "bc8bba1d",
   "metadata": {},
   "source": [
    "#### 2. Willingness parity gap\n",
    "\n",
    "* Same idea for willingness to discuss in interviews.\n",
    "* Positive result → more reluctance to discuss mental vs physical health.\n"
   ]
  },
  {
   "cell_type": "code",
   "execution_count": 1611,
   "id": "3e4ef2be",
   "metadata": {},
   "outputs": [],
   "source": [
    "df[\"parity_gap_interview\"] = (\n",
    "    df[\"mental_health_interview\"].map(willingness_map).fillna(0) -\n",
    "    df[\"phys_health_interview\"].map(willingness_map).fillna(0) \n",
    ")"
   ]
  },
  {
   "cell_type": "code",
   "execution_count": 1612,
   "id": "ec598b98",
   "metadata": {},
   "outputs": [
    {
     "data": {
      "text/plain": [
       "array([ 0,  1, -1])"
      ]
     },
     "execution_count": 1612,
     "metadata": {},
     "output_type": "execute_result"
    }
   ],
   "source": [
    "df[\"parity_gap_interview\"].unique()"
   ]
  },
  {
   "cell_type": "markdown",
   "id": "069265ad",
   "metadata": {},
   "source": [
    "* Converting the `parity_gap_interview` to categorical for plotting"
   ]
  },
  {
   "cell_type": "code",
   "execution_count": 1613,
   "id": "dda64e18",
   "metadata": {},
   "outputs": [],
   "source": [
    "gap_label = {-1: \"Physical safer\", 0: \"No gap\", 1: \"Mental worse\"}\n",
    "order_lbl = [\"Physical safer\", \"No gap\", \"Mental worse\"]\n",
    "gap_dtype = CategoricalDtype(order_lbl, ordered=True)\n",
    "\n",
    "# Interview gap: numeric -> labels -> ordered categorical\n",
    "s = pd.to_numeric(df[\"parity_gap_interview\"], errors=\"coerce\")\n",
    "s = s.map(gap_label)\n",
    "df[\"parity_gap_interview_cat\"] = s.astype(gap_dtype)\n"
   ]
  },
  {
   "cell_type": "markdown",
   "id": "6e6c6788",
   "metadata": {},
   "source": [
    "* Inspecting the distribution of the `parity_gap_consequence_cat` and `parity_gap_interview_cat` features within the population"
   ]
  },
  {
   "cell_type": "code",
   "execution_count": 1614,
   "id": "900b5cd9",
   "metadata": {},
   "outputs": [
    {
     "name": "stdout",
     "output_type": "stream",
     "text": [
      "parity_gap_consequence_cat\n",
      "No gap            808\n",
      "Mental worse      443\n",
      "Physical safer      8\n",
      "Name: count, dtype: int64\n",
      "parity_gap_interview_cat\n",
      "No gap            1095\n",
      "Mental worse       161\n",
      "Physical safer       3\n",
      "Name: count, dtype: int64\n"
     ]
    }
   ],
   "source": [
    "# (optional) quick checks\n",
    "print(df[\"parity_gap_consequence_cat\"].value_counts(dropna=False))\n",
    "print(df[\"parity_gap_interview_cat\"].value_counts(dropna=False))"
   ]
  },
  {
   "cell_type": "markdown",
   "id": "d49a042b",
   "metadata": {},
   "source": [
    "* Checking the correlation between parity gaps to potentially create a new composite feature"
   ]
  },
  {
   "cell_type": "code",
   "execution_count": 1615,
   "id": "0955251c",
   "metadata": {},
   "outputs": [
    {
     "name": "stdout",
     "output_type": "stream",
     "text": [
      "0.09802002821737697\n"
     ]
    }
   ],
   "source": [
    "rho = df[\"parity_gap_consequence\"].corr(df[\"parity_gap_interview\"], method=\"pearson\")\n",
    "\n",
    "print(rho)"
   ]
  },
  {
   "cell_type": "markdown",
   "id": "cd7ea4f0",
   "metadata": {},
   "source": [
    "<span style=\"color: pink\"> Since the correlation coefficient is low, these two features will be kept separate.</span>"
   ]
  },
  {
   "cell_type": "markdown",
   "id": "4d761005",
   "metadata": {},
   "source": [
    "## 4. Creating work interference severity score"
   ]
  },
  {
   "cell_type": "code",
   "execution_count": 1660,
   "id": "19b87dde",
   "metadata": {},
   "outputs": [
    {
     "data": {
      "text/plain": [
       "array(['Often', 'Rarely', 'Never', 'Sometimes', nan], dtype=object)"
      ]
     },
     "execution_count": 1660,
     "metadata": {},
     "output_type": "execute_result"
    }
   ],
   "source": [
    "df['work_interfere'].unique() # work interference: If you have a mental health condition, do you feel that it interferes with your work?"
   ]
  },
  {
   "cell_type": "code",
   "execution_count": 1617,
   "id": "cf35b491",
   "metadata": {},
   "outputs": [],
   "source": [
    "wi_order = {\"Never\": 0, \"Rarely\": 1, \"Sometimes\": 2, \"Often\": 3} # leave missing values as a separate category \n",
    "df[\"work_interfere_sev\"] = df[\"work_interfere\"].map(wi_order)"
   ]
  },
  {
   "cell_type": "markdown",
   "id": "a49ff479",
   "metadata": {},
   "source": [
    "## 5. Reviewing `Gender` column values and normalizing"
   ]
  },
  {
   "cell_type": "code",
   "execution_count": 1618,
   "id": "42301197",
   "metadata": {},
   "outputs": [
    {
     "data": {
      "text/plain": [
       "array(['Female', 'M', 'Male', 'male', 'female', 'm', 'Male-ish', 'maile',\n",
       "       'Trans-female', 'Cis Female', 'F', 'something kinda male?',\n",
       "       'Cis Male', 'Woman', 'f', 'Mal', 'Male (CIS)', 'queer/she/they',\n",
       "       'non-binary', 'Femake', 'woman', 'Make', 'Nah', 'All', 'Enby',\n",
       "       'fluid', 'Genderqueer', 'Female ', 'Androgyne', 'Agender',\n",
       "       'cis-female/femme', 'Guy (-ish) ^_^', 'male leaning androgynous',\n",
       "       'Male ', 'Man', 'Trans woman', 'msle', 'Neuter', 'Female (trans)',\n",
       "       'queer', 'Female (cis)', 'Mail', 'cis male', 'A little about you',\n",
       "       'Malr', 'p', 'femail', 'Cis Man',\n",
       "       'ostensibly male, unsure what that really means'], dtype=object)"
      ]
     },
     "execution_count": 1618,
     "metadata": {},
     "output_type": "execute_result"
    }
   ],
   "source": [
    "df[\"Gender\"].unique()"
   ]
  },
  {
   "cell_type": "markdown",
   "id": "18c801e3",
   "metadata": {},
   "source": [
    "***Tiny regex cheat-sheet for this function***\n",
    "\n",
    "* `\\b` — word boundary. Prevents matching “male” inside “female”.\n",
    "* `|` — OR. Example: male|man matches either.\n",
    "* `.` — any single character (except newline).\n",
    "* `.*` — zero or more of any character → “anything in between”.\n",
    "* `.?` — zero or one character → optional separator (e.g., hyphen or space).\n",
    "* `re.search(pattern, s)` — finds the first match anywhere in the string."
   ]
  },
  {
   "cell_type": "code",
   "execution_count": 1619,
   "id": "e709ddab",
   "metadata": {},
   "outputs": [],
   "source": [
    "import re\n",
    "\n",
    "# Defining a function that takes one cell from Gender and returns a clean label (string).\n",
    "\n",
    "def clean_gender(val: object) -> str:\n",
    "    if pd.isna(val):\n",
    "        return \"Unknown/Other\"\n",
    "    \n",
    "    s = str(val).strip().casefold()\n",
    "\n",
    "    fixes = {\n",
    "        \"f\": \"female\", \"m\": \"male\",\n",
    "        \"female\": \"female\", \"femake\": \"female\", \"femail\": \"female\",\n",
    "        \"male\": \"male\", \"maile\": \"male\", \"mal\": \"male\", \"malr\":\"male\", \"msle\": \"male\", \"mail\": \"male\", \"make\": \"male\", \n",
    "        \"cis female\": \"cis female\", \"cis-female/femme\": \"cis female\",\n",
    "        \"cis male\": \"cis male\", \"male (cis)\": \"cis male\",\n",
    "        \"trans female\": \"trans female\", \"female (trans)\": \"trans female\", \"trans woman\": \"trans female\"\n",
    "    }\n",
    "\n",
    "    s = fixes.get(s, s) # looks up s in the dict; if not found, it keeps s unchanged\n",
    "\n",
    "    if s in {\"\", \"nah\", \"all\", \"p\", \"a little about you\"}:\n",
    "        return \"Unknown/Other\"\n",
    "    \n",
    "    # building boolean flags with regex\n",
    "\n",
    "    has_trans = bool(re.search(r\"\\btrans\", s)) # \\b would boundry, matching words beginning with \"trans\", bool() converts to True/False\n",
    "    has_male = bool(re.search(r\"\\bmale\\b|\\bman\\b|guy|-ish.*male\", s)) # \\bmale\\b and \\bmman\\b(whole male and man words), “-ish” followed by any characters (.*) then “male”\n",
    "    has_female = bool(re.search(r\"\\bfemale\\b|\\bwoman\\b\", s))\n",
    "    has_nb = bool(re.search(\"non.?binary|enby|genderqueer|agender|androgyne|androgyn|fluid|neuter\", s)) # “non” + optional char (.?) + “binary”, so it matches nonbinary and non-binary, NB/GNC terms: enby, genderqueer, agender, androgyne, fluid, neuter\n",
    "\n",
    "\n",
    "    she_they = \"she/they\" in s or \"they/she\" in s \n",
    "    kinda_male = \"something kinda male\" in s \n",
    "    if she_they or kinda_male: # Non-regex string checks for patterns we want to treat as non-binary/GNC signals\n",
    "        has_nb = True\n",
    "\n",
    "    if has_trans and has_male: # they mention “trans” and male term, classify as Trans man\n",
    "        return \"Trans man\"\n",
    "    if has_trans and has_female: # they mention “trans” and female term, classify as Trans woman\n",
    "        return \"Trans woman\"\n",
    "    \n",
    "    if has_nb:\n",
    "        return \"Non-binary_GNC\" # catch non-binary/gender-nonconforming identities\n",
    "    \n",
    "    if \"cis female\" in s or (has_female and not has_male):\n",
    "        return \"Woman\"\n",
    "    \n",
    "    if \"cis male\" in s or (has_male and not has_female):\n",
    "        return \"Man\"\n",
    "\n",
    "    if has_female and has_male: # mixed signals → treat as GNC\n",
    "        return \"Non-binary_GNC\"\n",
    "    \n",
    "    else:\n",
    "        return \"Unknown/Other\""
   ]
  },
  {
   "cell_type": "markdown",
   "id": "57ddc937",
   "metadata": {},
   "source": [
    "#### Applying `clean_gender()` function to the `Gender` column"
   ]
  },
  {
   "cell_type": "code",
   "execution_count": 1620,
   "id": "e4d54b6e",
   "metadata": {},
   "outputs": [],
   "source": [
    "df[\"gender_5\"] = df[\"Gender\"].apply(clean_gender)\n",
    "\n",
    "df[\"gender_3\"] = df[\"gender_5\"].replace({\"Trans woman\": \"Woman\", \"Trans man\": \"Man\"})"
   ]
  },
  {
   "cell_type": "code",
   "execution_count": 1621,
   "id": "1496e2a6",
   "metadata": {},
   "outputs": [
    {
     "name": "stdout",
     "output_type": "stream",
     "text": [
      "gender_5\n",
      "Man               993\n",
      "Woman             247\n",
      "Non-binary_GNC     10\n",
      "Unknown/Other       5\n",
      "Trans woman         4\n",
      "Name: count, dtype: int64\n",
      "gender_3\n",
      "Man               993\n",
      "Woman             251\n",
      "Non-binary_GNC     10\n",
      "Unknown/Other       5\n",
      "Name: count, dtype: int64\n"
     ]
    }
   ],
   "source": [
    "print(df[\"gender_5\"].value_counts(dropna=False))\n",
    "print(df[\"gender_3\"].value_counts(dropna=False))"
   ]
  },
  {
   "cell_type": "code",
   "execution_count": 1622,
   "id": "ebc9b44e",
   "metadata": {},
   "outputs": [
    {
     "data": {
      "text/plain": [
       "array([         37,          44,          32,          31,          33,\n",
       "                35,          39,          42,          23,          29,\n",
       "                36,          27,          46,          41,          34,\n",
       "                30,          40,          38,          50,          24,\n",
       "                18,          28,          26,          22,          19,\n",
       "                25,          45,          21,         -29,          43,\n",
       "                56,          60,          54,         329,          55,\n",
       "       99999999999,          48,          20,          57,          58,\n",
       "                47,          62,          51,          65,          49,\n",
       "             -1726,           5,          53,          61,           8,\n",
       "                11,          -1,          72])"
      ]
     },
     "execution_count": 1622,
     "metadata": {},
     "output_type": "execute_result"
    }
   ],
   "source": [
    "df[\"Age\"].unique()"
   ]
  },
  {
   "cell_type": "code",
   "execution_count": 1623,
   "id": "52b607fa",
   "metadata": {},
   "outputs": [
    {
     "data": {
      "text/plain": [
       "dtype('int64')"
      ]
     },
     "execution_count": 1623,
     "metadata": {},
     "output_type": "execute_result"
    }
   ],
   "source": [
    "df[\"Age\"].dtype"
   ]
  },
  {
   "cell_type": "markdown",
   "id": "d9cbc4ec",
   "metadata": {},
   "source": [
    "## 6. Creating a categorical `Age` variable: `age_cat`\n",
    "\n",
    "* Building a boolean Series that’s True for outliers:\n",
    "    * `.lt(18)` means “less than 18” (same as age < 18).\n",
    "    * `.gt(80)` means “greater than 80” (same as age > 80).\n",
    "    * `|` is the element-wise OR for boolean Series.\n",
    "* Result: True where age is <18 or >80, else False."
   ]
  },
  {
   "cell_type": "markdown",
   "id": "a7ce08b7",
   "metadata": {},
   "source": [
    "#### Ensuring `Age` variable is numeric before binning"
   ]
  },
  {
   "cell_type": "code",
   "execution_count": 1624,
   "id": "a99c358b",
   "metadata": {},
   "outputs": [],
   "source": [
    "age = pd.to_numeric(df[\"Age\"], errors=\"coerce\")"
   ]
  },
  {
   "cell_type": "markdown",
   "id": "31939a71",
   "metadata": {},
   "source": [
    "#### Defining the outliers\n",
    "\n",
    "* Saving the `outlier` flag in `df` to filter or describe outliers later"
   ]
  },
  {
   "cell_type": "code",
   "execution_count": 1625,
   "id": "9a1b69f2",
   "metadata": {},
   "outputs": [],
   "source": [
    "outlier = age.lt(18)| age.gt(80)\n",
    "\n",
    "df[\"age_outlier\"] = outlier"
   ]
  },
  {
   "cell_type": "markdown",
   "id": "beff2c3f",
   "metadata": {},
   "source": [
    "#### Creating `age_cat` binned variable "
   ]
  },
  {
   "cell_type": "code",
   "execution_count": 1626,
   "id": "a67a3449",
   "metadata": {},
   "outputs": [],
   "source": [
    "bins   = [0, 25, 35, 45, np.inf]\n",
    "labels = [\"<25\", \"25–34\", \"35–44\", \"45+\"]\n",
    "\n",
    "age_cat = df[\"age_cat\"] = pd.cut(\n",
    "    age.where(~outlier),\n",
    "    bins=bins,\n",
    "    labels=labels,\n",
    "    right=False,\n",
    "    include_lowest=True\n",
    ")"
   ]
  },
  {
   "cell_type": "markdown",
   "id": "ff37af48",
   "metadata": {},
   "source": [
    "* Confirming `age_cat`'s data type and, categories, and missing values"
   ]
  },
  {
   "cell_type": "code",
   "execution_count": 1627,
   "id": "ad625840",
   "metadata": {},
   "outputs": [
    {
     "name": "stdout",
     "output_type": "stream",
     "text": [
      "category\n",
      "Index(['<25', '25–34', '35–44', '45+'], dtype='object')\n",
      "0       False\n",
      "1       False\n",
      "2       False\n",
      "3       False\n",
      "4       False\n",
      "        ...  \n",
      "1254    False\n",
      "1255    False\n",
      "1256    False\n",
      "1257    False\n",
      "1258    False\n",
      "Name: Age, Length: 1259, dtype: bool\n"
     ]
    }
   ],
   "source": [
    "print(age_cat.dtype)\n",
    "print(age_cat.cat.categories) \n",
    "print(age_cat.isna())           "
   ]
  },
  {
   "cell_type": "markdown",
   "id": "02a1ec6c",
   "metadata": {},
   "source": [
    "#### Adding two categories (`\"Unknown\"` `\"Outlier\"`) to the `age_cat` to annotate the `NaN`s"
   ]
  },
  {
   "cell_type": "markdown",
   "id": "1ae401aa",
   "metadata": {},
   "source": [
    "Because `NaN` isn’t a category, we need to add two new categories (\"Unknown\" and \"Outlier\") to `df[\"age_cat\"]` to specify the `NaN`"
   ]
  },
  {
   "cell_type": "code",
   "execution_count": 1628,
   "id": "058b73a2",
   "metadata": {},
   "outputs": [
    {
     "data": {
      "text/plain": [
       "0       35–44\n",
       "1       35–44\n",
       "2       25–34\n",
       "3       25–34\n",
       "4       25–34\n",
       "        ...  \n",
       "1254    25–34\n",
       "1255    25–34\n",
       "1256    25–34\n",
       "1257      45+\n",
       "1258    25–34\n",
       "Name: age_cat, Length: 1259, dtype: category\n",
       "Categories (6, object): ['<25' < '25–34' < '35–44' < '45+' < 'Unknown' < 'Outlier']"
      ]
     },
     "execution_count": 1628,
     "metadata": {},
     "output_type": "execute_result"
    }
   ],
   "source": [
    "age_cat = age_cat.cat.add_categories([\"Unknown\", \"Outlier\"])\n",
    "age_cat[age_cat.isna()] = \"Unknown\"\n",
    "age_cat[outlier] = \"Outlier\"\n",
    "\n",
    "df[\"age_cat\"] = age_cat\n",
    "\n",
    "df[\"age_cat\"]"
   ]
  },
  {
   "cell_type": "markdown",
   "id": "44401cf0",
   "metadata": {},
   "source": [
    "## 7. Cleaning `no_employees` and creating `company_size` (and related additional features)"
   ]
  },
  {
   "cell_type": "code",
   "execution_count": 1629,
   "id": "5cf6bf6e",
   "metadata": {},
   "outputs": [
    {
     "data": {
      "text/plain": [
       "array(['6-25', 'More than 1000', '26-100', '100-500', '1-5', '500-1000'],\n",
       "      dtype=object)"
      ]
     },
     "execution_count": 1629,
     "metadata": {},
     "output_type": "execute_result"
    }
   ],
   "source": [
    "df[\"no_employees\"].unique()"
   ]
  },
  {
   "cell_type": "markdown",
   "id": "02483c08",
   "metadata": {},
   "source": [
    "#### Creating an ordered categorical variable for company size"
   ]
  },
  {
   "cell_type": "code",
   "execution_count": 1630,
   "id": "afb355de",
   "metadata": {},
   "outputs": [],
   "source": [
    "norm = lambda s: s.astype(\"string\").str.strip().str.casefold()\n",
    "\n",
    "raw = norm(df[\"no_employees\"])\n",
    "\n",
    "raw = (raw\n",
    "       .str.replace(\"\\u2013\", \"-\", regex=False)   # en dash –\n",
    "       .str.replace(\"\\u2014\", \"-\", regex=False))  # em dash —\n",
    "\n",
    "cat_map = {\n",
    "    \"1-5\": \"1-5\",\n",
    "    \"6-25\": \"6-25\",\n",
    "    \"26-100\": \"26-100\",\n",
    "    \"100-500\": \"100-500\",\n",
    "    \"500-1000\": \"500-1000\",\n",
    "    \"1000+\": \"1000+\",\n",
    "    \"more than 1000\": \"1000+\"\n",
    "}\n",
    "\n",
    "df[\"company_size_cat\"] = raw.map(cat_map) # unmatched ware labelled as NaN\n",
    "\n",
    "order = [\"1-5\",\"6-25\",\"26-100\",\"100-500\",\"500-1000\",\"1000+\",\"Unknown\"]\n",
    "\n",
    "df[\"company_size_cat\"] = (df[\"company_size_cat\"]\n",
    "                             .fillna(\"Unknown\")\n",
    "                             .astype(pd.CategoricalDtype(order, ordered=True))\n",
    ")"
   ]
  },
  {
   "cell_type": "markdown",
   "id": "463e3a9c",
   "metadata": {},
   "source": [
    "#### Creating an ordinal variable for company size"
   ]
  },
  {
   "cell_type": "code",
   "execution_count": 1631,
   "id": "be5d2182",
   "metadata": {},
   "outputs": [],
   "source": [
    "ord_map = {\"1-5\": 0, \"6-25\": 1, \"26-100\": 2, \"100-500\":3, \"500-1000\": 4, \"1000+\": 5, \"Unknown\":pd.NA}\n",
    "\n",
    "df[\"company_size_ord\"] = df[\"company_size_cat\"].map(ord_map).astype(\"Int64\")"
   ]
  },
  {
   "cell_type": "markdown",
   "id": "9e71a73b",
   "metadata": {},
   "source": [
    "##### Confirming successful creating of `company_size_cat` feature"
   ]
  },
  {
   "cell_type": "code",
   "execution_count": 1632,
   "id": "365fd5b1",
   "metadata": {},
   "outputs": [
    {
     "name": "stdout",
     "output_type": "stream",
     "text": [
      "company_size_cat\n",
      "6-25        290\n",
      "26-100      289\n",
      "1000+       282\n",
      "100-500     176\n",
      "1-5         162\n",
      "500-1000     60\n",
      "Unknown       0\n",
      "Name: count, dtype: int64\n"
     ]
    }
   ],
   "source": [
    "print(df[\"company_size_cat\"].value_counts(dropna=False))"
   ]
  },
  {
   "cell_type": "markdown",
   "id": "8818d2ab",
   "metadata": {},
   "source": [
    "<span style=\"color: pink\">Since there is no `\"Unknown\"` category, we'll remove it. This will come in handy when plotting</span>"
   ]
  },
  {
   "cell_type": "code",
   "execution_count": 1633,
   "id": "b9c7330e",
   "metadata": {},
   "outputs": [],
   "source": [
    "df[\"company_size_cat\"] = df[\"company_size_cat\"].cat.remove_unused_categories()"
   ]
  },
  {
   "cell_type": "markdown",
   "id": "d911fcab",
   "metadata": {},
   "source": [
    "##### Confirming successful creating of `company_size_ord` feature"
   ]
  },
  {
   "cell_type": "code",
   "execution_count": 1634,
   "id": "b42ed773",
   "metadata": {},
   "outputs": [
    {
     "name": "stdout",
     "output_type": "stream",
     "text": [
      "company_size_ord\n",
      "1    290\n",
      "2    289\n",
      "5    282\n",
      "3    176\n",
      "0    162\n",
      "4     60\n",
      "Name: count, dtype: Int64\n"
     ]
    }
   ],
   "source": [
    "print(df[\"company_size_ord\"].value_counts(dropna=False))"
   ]
  },
  {
   "cell_type": "code",
   "execution_count": 1635,
   "id": "c08888f6",
   "metadata": {},
   "outputs": [
    {
     "name": "stdout",
     "output_type": "stream",
     "text": [
      "     no_employees company_size_cat  company_size_ord\n",
      "0            6-25             6-25                 1\n",
      "1  More than 1000            1000+                 5\n",
      "2            6-25             6-25                 1\n",
      "3          26-100           26-100                 2\n",
      "4         100-500          100-500                 3\n"
     ]
    }
   ],
   "source": [
    "print(df[[\"no_employees\",\"company_size_cat\",\"company_size_ord\"]].head())"
   ]
  },
  {
   "cell_type": "markdown",
   "id": "4717ed66",
   "metadata": {},
   "source": [
    "## 8. Creating Manager/Coworker Comfort features"
   ]
  },
  {
   "cell_type": "code",
   "execution_count": 1636,
   "id": "a9637464",
   "metadata": {},
   "outputs": [
    {
     "name": "stdout",
     "output_type": "stream",
     "text": [
      "['Yes' 'No' 'Some of them']\n",
      "['Some of them' 'No' 'Yes']\n"
     ]
    }
   ],
   "source": [
    "print(df[\"supervisor\"].unique())\n",
    "print(df[\"coworkers\"].unique())"
   ]
  },
  {
   "cell_type": "markdown",
   "id": "1c672722",
   "metadata": {},
   "source": [
    "#### 1. Creating two ordered categorial variable (for plotting): supervisor or coworkers comfort"
   ]
  },
  {
   "cell_type": "code",
   "execution_count": 1637,
   "id": "f05f161a",
   "metadata": {},
   "outputs": [],
   "source": [
    "order={\"Yes\", \"Some of them\", \"No\"}\n",
    "df[\"comfort_supervisor_cat\"] = df[\"supervisor\"].astype(pd.CategoricalDtype(categories= order,ordered=True))\n",
    "df[\"comfort_coworkers_cat\"] = df[\"coworkers\"].astype(pd.CategoricalDtype(categories= order,ordered=True))"
   ]
  },
  {
   "cell_type": "markdown",
   "id": "af72f523",
   "metadata": {},
   "source": [
    " <div class=\"alert alert-info\">\n",
    "<b>Note:</b> Values must match exactly `(\"Yes\", \"No\", \"Some of them\")`. Anything else becomes `NaN`. However, since there is no `NaN`s, we don't have to assign a category to them. However, If you ever want an explicit “Unknown” bucket, add it to the dtype and fill:\n",
    "</div>"
   ]
  },
  {
   "cell_type": "code",
   "execution_count": 1638,
   "id": "b899a1ea",
   "metadata": {},
   "outputs": [],
   "source": [
    "# Keep this commented out\n",
    "\n",
    "# comfort_dtype2 = CategoricalDtype(order + [\"Unknown\"], ordered=True)\n",
    "# df[\"comfort_supervisor_cat\"] = (\n",
    "#     df[\"supervisor\"].where(df[\"supervisor\"].isin(order), \"Unknown\").astype(comfort_dtype2)\n",
    "# )\n",
    "\n",
    "# comfort_dtype2 = CategoricalDtype(order + [\"Unknown\"], ordered=True)\n",
    "# df[\"comfort_coworkers_cat\"] = (\n",
    "#     df[\"coworkers\"].where(df[\"coworkers\"].isin(order), \"Unknown\").astype(comfort_dtype2)\n",
    "#)"
   ]
  },
  {
   "cell_type": "code",
   "execution_count": 1639,
   "id": "b1061888",
   "metadata": {},
   "outputs": [
    {
     "name": "stdout",
     "output_type": "stream",
     "text": [
      "category\n",
      "Index(['Yes', 'Some of them', 'No'], dtype='object')\n",
      "comfort_supervisor_cat\n",
      "Yes             516\n",
      "No              393\n",
      "Some of them    350\n",
      "Name: count, dtype: int64\n"
     ]
    }
   ],
   "source": [
    "print(df[\"comfort_supervisor_cat\"].dtype)\n",
    "print(df[\"comfort_supervisor_cat\"].cat.categories)\n",
    "print(df[\"comfort_supervisor_cat\"].value_counts(dropna=False))"
   ]
  },
  {
   "cell_type": "code",
   "execution_count": 1640,
   "id": "211da724",
   "metadata": {},
   "outputs": [
    {
     "name": "stdout",
     "output_type": "stream",
     "text": [
      "category\n",
      "Index(['Yes', 'Some of them', 'No'], dtype='object')\n",
      "comfort_coworkers_cat\n",
      "Some of them    774\n",
      "No              260\n",
      "Yes             225\n",
      "Name: count, dtype: int64\n"
     ]
    }
   ],
   "source": [
    "print(df[\"comfort_coworkers_cat\"].dtype)\n",
    "print(df[\"comfort_coworkers_cat\"].cat.categories)\n",
    "print(df[\"comfort_coworkers_cat\"].value_counts(dropna=False))"
   ]
  },
  {
   "cell_type": "markdown",
   "id": "c76f8391",
   "metadata": {},
   "source": [
    "#### 2. Creating two ordinal variables: supervisor or coworkers comfort"
   ]
  },
  {
   "cell_type": "code",
   "execution_count": 1641,
   "id": "21c35950",
   "metadata": {},
   "outputs": [],
   "source": [
    "ord3 = {\"No\": 0, \"Some of them\": 1, \"Yes\": 2}\n",
    "df[\"comfort_supervisor_ord3\"] = df[\"supervisor\"].map(ord3).astype(\"Int64\")\n",
    "df[\"comfort_coworkers_ord3\"] = df[\"coworkers\"].map(ord3).astype(\"Int64\")"
   ]
  },
  {
   "cell_type": "code",
   "execution_count": 1642,
   "id": "35d4f995",
   "metadata": {},
   "outputs": [
    {
     "name": "stdout",
     "output_type": "stream",
     "text": [
      "Int64\n",
      "comfort_supervisor_ord3\n",
      "2    516\n",
      "0    393\n",
      "1    350\n",
      "Name: count, dtype: Int64\n"
     ]
    }
   ],
   "source": [
    "print(df[\"comfort_supervisor_ord3\"].dtype)\n",
    "print(df[\"comfort_supervisor_ord3\"].value_counts(dropna=False))"
   ]
  },
  {
   "cell_type": "code",
   "execution_count": 1643,
   "id": "42548e01",
   "metadata": {},
   "outputs": [
    {
     "name": "stdout",
     "output_type": "stream",
     "text": [
      "Int64\n",
      "comfort_coworkers_ord3\n",
      "1    774\n",
      "0    260\n",
      "2    225\n",
      "Name: count, dtype: Int64\n"
     ]
    }
   ],
   "source": [
    "print(df[\"comfort_coworkers_ord3\"].dtype)\n",
    "print(df[\"comfort_coworkers_ord3\"].value_counts(dropna=False))"
   ]
  },
  {
   "cell_type": "markdown",
   "id": "cac709f1",
   "metadata": {},
   "source": [
    "#### 3. Creating a binary variable for any comfort"
   ]
  },
  {
   "cell_type": "code",
   "execution_count": 1644,
   "id": "9c5875bf",
   "metadata": {},
   "outputs": [],
   "source": [
    "df[\"comfort_any_bin\"] = (\n",
    "    (df[\"comfort_supervisor_ord3\"].fillna(0)>0) |\n",
    "    (df[\"comfort_coworkers_ord3\"].fillna(0)>0)\n",
    ").astype(\"Int64\")"
   ]
  },
  {
   "cell_type": "code",
   "execution_count": 1645,
   "id": "17b72a11",
   "metadata": {},
   "outputs": [
    {
     "name": "stdout",
     "output_type": "stream",
     "text": [
      "Int64\n",
      "comfort_any_bin\n",
      "1    1060\n",
      "0     199\n",
      "Name: count, dtype: Int64\n"
     ]
    }
   ],
   "source": [
    "print(df[\"comfort_any_bin\"].dtype)\n",
    "print(df[\"comfort_any_bin\"].value_counts(dropna=False))"
   ]
  },
  {
   "cell_type": "markdown",
   "id": "05d5ddfa",
   "metadata": {},
   "source": [
    "#### 4. Creating an ordinal variable for total comfort"
   ]
  },
  {
   "cell_type": "code",
   "execution_count": 1646,
   "id": "c26f0fa4",
   "metadata": {},
   "outputs": [],
   "source": [
    "df[\"comfort_total_ord4\"] = (\n",
    "    df[\"comfort_supervisor_ord3\"].fillna(9) +\n",
    "    df[\"comfort_coworkers_ord3\"].fillna(9)\n",
    ").astype(\"Int64\")"
   ]
  },
  {
   "cell_type": "code",
   "execution_count": 1647,
   "id": "914d9715",
   "metadata": {},
   "outputs": [
    {
     "name": "stdout",
     "output_type": "stream",
     "text": [
      "Int64\n",
      "comfort_total_ord4\n",
      "3    332\n",
      "2    297\n",
      "1    236\n",
      "0    199\n",
      "4    195\n",
      "Name: count, dtype: Int64\n"
     ]
    }
   ],
   "source": [
    "print(df[\"comfort_total_ord4\"].dtype)\n",
    "print(df[\"comfort_total_ord4\"].value_counts(dropna=False))"
   ]
  },
  {
   "cell_type": "markdown",
   "id": "08430dc1",
   "metadata": {},
   "source": [
    "## 9. Creating `us_category` feature"
   ]
  },
  {
   "cell_type": "markdown",
   "id": "f8226a95",
   "metadata": {},
   "source": [
    "* Checking the unique values of the `Country` column"
   ]
  },
  {
   "cell_type": "code",
   "execution_count": 1648,
   "id": "5ed6f9f3",
   "metadata": {},
   "outputs": [
    {
     "data": {
      "text/plain": [
       "array(['United States', 'Canada', 'United Kingdom', 'Bulgaria', 'France',\n",
       "       'Portugal', 'Netherlands', 'Switzerland', 'Poland', 'Australia',\n",
       "       'Germany', 'Russia', 'Mexico', 'Brazil', 'Slovenia', 'Costa Rica',\n",
       "       'Austria', 'Ireland', 'India', 'South Africa', 'Italy', 'Sweden',\n",
       "       'Colombia', 'Latvia', 'Romania', 'Belgium', 'New Zealand',\n",
       "       'Zimbabwe', 'Spain', 'Finland', 'Uruguay', 'Israel',\n",
       "       'Bosnia and Herzegovina', 'Hungary', 'Singapore', 'Japan',\n",
       "       'Nigeria', 'Croatia', 'Norway', 'Thailand', 'Denmark',\n",
       "       'Bahamas, The', 'Greece', 'Moldova', 'Georgia', 'China',\n",
       "       'Czech Republic', 'Philippines'], dtype=object)"
      ]
     },
     "execution_count": 1648,
     "metadata": {},
     "output_type": "execute_result"
    }
   ],
   "source": [
    "df[\"Country\"].unique()"
   ]
  },
  {
   "cell_type": "markdown",
   "id": "5cc6e6fe",
   "metadata": {},
   "source": [
    "<span style=\"color: pink\">**Note: the values are clean and uniform, requiring no further cleaning.**</span>"
   ]
  },
  {
   "cell_type": "markdown",
   "id": "129cae3d",
   "metadata": {},
   "source": [
    "* Checking the unique values of the `Country` column"
   ]
  },
  {
   "cell_type": "code",
   "execution_count": 1649,
   "id": "c1a1d98e",
   "metadata": {},
   "outputs": [
    {
     "data": {
      "text/plain": [
       "array(['IL', 'IN', nan, 'TX', 'TN', 'MI', 'OH', 'CA', 'CT', 'MD', 'NY',\n",
       "       'NC', 'MA', 'IA', 'PA', 'WA', 'WI', 'UT', 'NM', 'OR', 'FL', 'MN',\n",
       "       'MO', 'AZ', 'CO', 'GA', 'DC', 'NE', 'WV', 'OK', 'KS', 'VA', 'NH',\n",
       "       'KY', 'AL', 'NV', 'NJ', 'SC', 'VT', 'SD', 'ID', 'MS', 'RI', 'WY',\n",
       "       'LA', 'ME'], dtype=object)"
      ]
     },
     "execution_count": 1649,
     "metadata": {},
     "output_type": "execute_result"
    }
   ],
   "source": [
    "df[\"state\"].unique()"
   ]
  },
  {
   "cell_type": "markdown",
   "id": "373eb5d0",
   "metadata": {},
   "source": [
    "<span style=\"color: pink\">Note-1: the values are clean and uniform, requiring no further cleaning.</span>\n",
    "\n",
    "<span style=\"color: pink\">Note-2: It's likely that only `United States` has `state` values available.</span>"
   ]
  },
  {
   "cell_type": "markdown",
   "id": "0badeb7d",
   "metadata": {},
   "source": [
    "#### Creating the `us_category` feature"
   ]
  },
  {
   "cell_type": "code",
   "execution_count": 1650,
   "id": "032394a0",
   "metadata": {},
   "outputs": [],
   "source": [
    "country = df[\"Country\"].astype(\"string\").str.strip()\n",
    "\n",
    "us_cat = country.map({\"United States\": \"US\"}).fillna(\"Non-US\")   # map US, others -> NaN, then NaN -> 'Non-US'\n",
    "us_cat = us_cat.mask(country.isna(), \"Unknown\") # true missing -> 'Unknown'\n",
    "\n",
    "dtype = us_cat.astype(pd.CategoricalDtype(categories=[\"US\", \"Non-US\", \"Unknown\"]))\n",
    "\n",
    "df[\"us_category\"] = dtype"
   ]
  },
  {
   "cell_type": "markdown",
   "id": "3365f6c2",
   "metadata": {},
   "source": [
    "* Inspecting the distribution of the `us_category` to confirm accurate creation"
   ]
  },
  {
   "cell_type": "code",
   "execution_count": 1651,
   "id": "bda72464",
   "metadata": {},
   "outputs": [
    {
     "name": "stdout",
     "output_type": "stream",
     "text": [
      "us_category\n",
      "US         751\n",
      "Non-US     508\n",
      "Unknown      0\n",
      "Name: count, dtype: int64\n"
     ]
    }
   ],
   "source": [
    "print(df['us_category'].value_counts(dropna=False))"
   ]
  },
  {
   "cell_type": "markdown",
   "id": "56125db8",
   "metadata": {},
   "source": [
    "<h1 style=\"text-align:center;\">Visual Insights</h1>"
   ]
  },
  {
   "cell_type": "markdown",
   "id": "7dc55aca",
   "metadata": {},
   "source": [
    "## Qestion-1: Do workplace policies (benefits, care options, anonymity, generous leave) correlate with higher treatment-seeking and lower work interference?"
   ]
  },
  {
   "cell_type": "code",
   "execution_count": 1652,
   "id": "bbd78318",
   "metadata": {},
   "outputs": [
    {
     "data": {
      "text/html": [
       "<div>\n",
       "<style scoped>\n",
       "    .dataframe tbody tr th:only-of-type {\n",
       "        vertical-align: middle;\n",
       "    }\n",
       "\n",
       "    .dataframe tbody tr th {\n",
       "        vertical-align: top;\n",
       "    }\n",
       "\n",
       "    .dataframe thead th {\n",
       "        text-align: right;\n",
       "    }\n",
       "</style>\n",
       "<table border=\"1\" class=\"dataframe\">\n",
       "  <thead>\n",
       "    <tr style=\"text-align: right;\">\n",
       "      <th></th>\n",
       "      <th>support_score</th>\n",
       "      <th>treatment</th>\n",
       "    </tr>\n",
       "  </thead>\n",
       "  <tbody>\n",
       "    <tr>\n",
       "      <th>0</th>\n",
       "      <td>0</td>\n",
       "      <td>517</td>\n",
       "    </tr>\n",
       "    <tr>\n",
       "      <th>1</th>\n",
       "      <td>1</td>\n",
       "      <td>251</td>\n",
       "    </tr>\n",
       "    <tr>\n",
       "      <th>2</th>\n",
       "      <td>2</td>\n",
       "      <td>203</td>\n",
       "    </tr>\n",
       "    <tr>\n",
       "      <th>3</th>\n",
       "      <td>3</td>\n",
       "      <td>115</td>\n",
       "    </tr>\n",
       "    <tr>\n",
       "      <th>4</th>\n",
       "      <td>4</td>\n",
       "      <td>92</td>\n",
       "    </tr>\n",
       "    <tr>\n",
       "      <th>5</th>\n",
       "      <td>5</td>\n",
       "      <td>81</td>\n",
       "    </tr>\n",
       "  </tbody>\n",
       "</table>\n",
       "</div>"
      ],
      "text/plain": [
       "   support_score  treatment\n",
       "0              0        517\n",
       "1              1        251\n",
       "2              2        203\n",
       "3              3        115\n",
       "4              4         92\n",
       "5              5         81"
      ]
     },
     "execution_count": 1652,
     "metadata": {},
     "output_type": "execute_result"
    }
   ],
   "source": [
    "df.groupby(\"support_score\")[\"treatment\"].count().reset_index()"
   ]
  },
  {
   "cell_type": "code",
   "execution_count": 1653,
   "id": "b00910ca",
   "metadata": {},
   "outputs": [
    {
     "data": {
      "text/plain": [
       "<seaborn.axisgrid.FacetGrid at 0x32bd309e0>"
      ]
     },
     "execution_count": 1653,
     "metadata": {},
     "output_type": "execute_result"
    },
    {
     "data": {
      "image/png": "[encoded data removed]",
      "text/plain": [
       "<Figure size 512.222x500 with 1 Axes>"
      ]
     },
     "metadata": {},
     "output_type": "display_data"
    }
   ],
   "source": [
    "sns.catplot(x=\"support_score\", data=df, kind=\"count\")"
   ]
  },
  {
   "cell_type": "markdown",
   "id": "a40f37fb",
   "metadata": {},
   "source": [
    "<div class=\"alert alert-info\">\n",
    "<b>Insight:</b>\n",
    "\n",
    " * The distribution is heavily skewed to low support.\n",
    "\n",
    "* Most respondents sit at support=0, then counts drop steadily as support increases; only a small minority report scores 4–5.\n",
    "\n",
    "* Note: “Don’t know/Not sure” are coded as 0. So the big bar at 0 mixes true absence of policies with low visibility/awareness. \n",
    "\n",
    "    * That’s important for interpretation: it suggests either few supports exist or employees don’t know about them.\n",
    "\n",
    "</div>"
   ]
  },
  {
   "cell_type": "code",
   "execution_count": 1654,
   "id": "435a3f1d",
   "metadata": {},
   "outputs": [
    {
     "data": {
      "text/plain": [
       "<seaborn.axisgrid.FacetGrid at 0x32cc701a0>"
      ]
     },
     "execution_count": 1654,
     "metadata": {},
     "output_type": "execute_result"
    },
    {
     "data": {
      "image/png": "[encoded data removed]",
      "text/plain": [
       "<Figure size 512.222x500 with 1 Axes>"
      ]
     },
     "metadata": {},
     "output_type": "display_data"
    }
   ],
   "source": [
    "sns.catplot(x=\"treatment\", data=df, kind=\"count\")"
   ]
  },
  {
   "cell_type": "markdown",
   "id": "16b95844",
   "metadata": {},
   "source": [
    "<div class=\"alert alert-info\">\n",
    "<b>Insight:</b>\n",
    "\n",
    "* The bars for treatment = Yes and No are almost the same height, so among respondents who answered this item, about half report having sought treatment (maybe a slight edge to “Yes”).\n",
    "\n",
    "</div>"
   ]
  },
  {
   "cell_type": "markdown",
   "id": "57c9a761",
   "metadata": {},
   "source": [
    "<span style=\"color:orange\"> Quick reminder</span>\n",
    "* `treatment`: Do you think that discussing a mental health issue with your employer would have negative consequences? <span style=\"color:pink\">(Yes/Maybe->negative, No->Positive)</span>\n",
    "* `support_score`:\n",
    "    * `benefits`: Do you think that discussing a physical health issue with your employer would have negative consequences? <span style=\"color:pink\">(Yes/Maybe->negative, No->Positive)</span>\n",
    "    * `care_options`: Would you bring up a mental health issue with a potential employer in an interview? <span style=\"color:pink\">(Yes/Maybe->negative, No->Positive)</span>\n",
    "    * `seek_help`: Would you bring up a physical health issue with a potential employer in an interview? <span style=\"color:pink\">(Maybe/No->Negative, Yes->Positive)</span>\n",
    "    * `anonymity`: Would you bring up a physical health issue with a potential employer in an interview? <span style=\"color:pink\">(Maybe/No->Negative, Yes->Positive)</span>"
   ]
  },
  {
   "cell_type": "code",
   "execution_count": 1661,
   "id": "9ac1b65b",
   "metadata": {},
   "outputs": [
    {
     "data": {
      "image/png": "[encoded data removed]",
      "text/plain": [
       "<Figure size 640x480 with 1 Axes>"
      ]
     },
     "metadata": {},
     "output_type": "display_data"
    },
    {
     "data": {
      "image/png": "[encoded data removed]",
      "text/plain": [
       "<Figure size 1587.22x700 with 6 Axes>"
      ]
     },
     "metadata": {},
     "output_type": "display_data"
    }
   ],
   "source": [
    "# Add 0/1 for treatment: `treat_bin` to `df`\n",
    "df[\"treat_bin\"] = df[\"treatment\"].str.strip().str.casefold().map({\"yes\":1,\"no\":0}).astype(\"Int64\")\n",
    "\n",
    "# 1) Overall: Support → Treatment (95% CI)\n",
    "ax = sns.pointplot(\n",
    "    data=df, x=\"support_score\", y=\"treat_bin\",\n",
    "    estimator=np.mean, errorbar=(\"ci\", 95), dodge=False\n",
    ")\n",
    "ax.set(xlabel=\"Support score (0–5)\", ylabel=\"Treatment rate\", ylim=(0, 1),\n",
    "       title=\"Support → Treatment (95% CI)\")\n",
    "plt.show()\n",
    "\n",
    "# 2) Small multiples by company size\n",
    "g = sns.catplot(\n",
    "    data=df, x=\"support_score\", y=\"treat_bin\",\n",
    "    col=\"company_size_cat\", col_wrap=3, kind=\"point\",\n",
    "    estimator=np.mean, errorbar=(\"ci\", 95), dodge=False,\n",
    "    height=3.5, aspect=1.5\n",
    ")\n",
    "\n",
    "g.set_axis_labels(\"Support score (0–5)\", \"Treatment rate\")\n",
    "g.set(ylim=(0, 1))\n",
    "g.set_titles(col_template=\"{col_name}\")\n",
    "\n",
    "fig = g.figure\n",
    "\n",
    "fig.suptitle(\"Support → Treatment (95% CI) by Company Size\", fontsize=14)\n",
    "\n",
    "fig.tight_layout()\n",
    "fig.subplots_adjust(bottom=0, top=.89, left=0.08, right=0.98)  # margins\n",
    "fig.subplots_adjust(wspace=0.25, hspace=0.35) # spacing between facets\n",
    "\n",
    "plt.show()"
   ]
  },
  {
   "cell_type": "markdown",
   "id": "448a258e",
   "metadata": {},
   "source": [
    "<div class=\"alert alert-info\">\n",
    "<b>Insight:</b>\n",
    "\n",
    "* There is a clear positive association between perceived support and treatment seeking.\n",
    "\n",
    "* Employees who report more visible/accessible support policies are substantially more likely to seek treatment, with gains up to about support=3 and a plateau thereafter\n",
    "\n",
    "</div>"
   ]
  },
  {
   "cell_type": "code",
   "execution_count": 1659,
   "id": "77af2dc1",
   "metadata": {},
   "outputs": [
    {
     "data": {
      "image/png": "[encoded data removed]",
      "text/plain": [
       "<Figure size 640x480 with 1 Axes>"
      ]
     },
     "metadata": {},
     "output_type": "display_data"
    },
    {
     "data": {
      "image/png": "[encoded data removed]",
      "text/plain": [
       "<Figure size 1587.22x700 with 6 Axes>"
      ]
     },
     "metadata": {},
     "output_type": "display_data"
    }
   ],
   "source": [
    "# 1) Overall: Support → Work interference severity (95% CI)\n",
    "ax = sns.pointplot(\n",
    "    data=df, x=\"support_score\", y=\"work_interfere_sev\",\n",
    "    estimator=np.mean, errorbar=(\"ci\", 95), dodge=False\n",
    ")\n",
    "ax.set(xlabel=\"Support score (0–5)\", ylabel=\"Work interference rate\", ylim=(0, 4),\n",
    "       title=\"Support → Work Interference (95% CI)\")\n",
    "plt.show()\n",
    "\n",
    "# 2) Small multiples by company size\n",
    "g = sns.catplot(\n",
    "    data=df, x=\"support_score\", y=\"work_interfere_sev\",\n",
    "    col=\"company_size_cat\", col_wrap=3, kind=\"point\",\n",
    "    estimator=np.mean, errorbar=(\"ci\", 95), dodge=False,\n",
    "    height=3.5, aspect=1.5\n",
    ")\n",
    "\n",
    "g.set_axis_labels(\"Support score (0–5)\", \"Work interference rate\")\n",
    "g.set(ylim=(0, 4))\n",
    "g.set_titles(col_template=\"{col_name}\")\n",
    "\n",
    "fig = g.figure\n",
    "\n",
    "fig.suptitle(\"Support → Work Interference (95% CI) by Company Size\", fontsize=14)\n",
    "\n",
    "fig.tight_layout()\n",
    "fig.subplots_adjust(bottom=0, top=.89, left=0.08, right=0.98)  # margins\n",
    "fig.subplots_adjust(wspace=0.25, hspace=0.35) # spacing between facets\n",
    "\n",
    "plt.show()"
   ]
  },
  {
   "cell_type": "markdown",
   "id": "8b6fb202",
   "metadata": {},
   "source": [
    "<div class=\"alert alert-info\">\n",
    "<b>Insight:</b>\n",
    "\n",
    "* Work interference (0–3 scale) hovers around 1.4–1.8 across support levels\n",
    "\n",
    "* Error bars (95% CIs) overlap a lot, so differences between support scores are small/uncertain\n",
    "\n",
    "* No clear “more support → less interference” pattern in the aggregate\n",
    "\n",
    "* Confounding / reverse causality: orgs with more visible support may also be places with heavier workloads or higher need, so interference stays similar\n",
    "</div>"
   ]
  },
  {
   "cell_type": "markdown",
   "id": "b0a274a6",
   "metadata": {},
   "source": [
    "## Question-2: Is there a mismatch between willingness to discuss mental vs physical health (interview/leave consequences questions), and does that gap predict treatment or interference?"
   ]
  },
  {
   "cell_type": "markdown",
   "id": "985ce362",
   "metadata": {},
   "source": [
    "<span style=\"color:orange\"> Quick reminder</span>\n",
    "* `mental_health_consequence`: Do you think that discussing a mental health issue with your employer would have negative consequences? <span style=\"color:pink\">(Yes/Maybe->negative, No->Positive)</span>\n",
    "* `phys_health_consequence`: Do you think that discussing a physical health issue with your employer would have negative consequences? <span style=\"color:pink\">(Yes/Maybe->negative, No->Positive)</span>\n",
    "* `mental_health_interview`: Would you bring up a mental health issue with a potential employer in an interview? <span style=\"color:pink\">(Yes/Maybe->negative, No->Positive)</span>\n",
    "* `phys_health_interview`: Would you bring up a physical health issue with a potential employer in an interview? <span style=\"color:pink\">(Maybe/No->Negative, Yes->Positive)</span>"
   ]
  },
  {
   "cell_type": "code",
   "execution_count": 1657,
   "id": "af239f0b",
   "metadata": {},
   "outputs": [
    {
     "data": {
      "image/png": "[encoded data removed]",
      "text/plain": [
       "<Figure size 1000x400 with 3 Axes>"
      ]
     },
     "metadata": {},
     "output_type": "display_data"
    }
   ],
   "source": [
    "sns.set_theme()\n",
    "\n",
    "# Use your existing ordered categoricals\n",
    "gap_order = list(df[\"parity_gap_interview_cat\"].cat.categories)\n",
    "\n",
    "# Crosstabs (keep order; fill missing combos with 0)\n",
    "ct = pd.crosstab(df[\"parity_gap_interview_cat\"], df[\"parity_gap_consequence_cat\"])\n",
    "ct = ct.reindex(index=gap_order, columns=gap_order, fill_value=0)\n",
    "\n",
    "# Row percentages (avoid divide-by-zero if a row is entirely 0)\n",
    "ct_pct = ct.div(ct.sum(axis=1).replace(0, np.nan), axis=0) * 100\n",
    "\n",
    "# Plot\n",
    "fig, ax = plt.subplots(1, 2, figsize=(10, 4), sharey=True)\n",
    "\n",
    "sns.heatmap(ct, annot=True, fmt=\"d\", cmap=\"Blues\", cbar=False, ax=ax[0])\n",
    "ax[0].set_title(\"Mismatch (counts)\")\n",
    "ax[0].set_xlabel(\"Consequence gap\")\n",
    "ax[0].set_ylabel(\"Interview gap\")\n",
    "\n",
    "sns.heatmap(ct_pct.round(1), annot=True, fmt=\".1f\", cmap=\"Blues\", cbar=True, ax=ax[1])\n",
    "ax[1].set_title(\"Mismatch (row %)\")\n",
    "ax[1].set_xlabel(\"Consequence gap\")\n",
    "ax[1].set_ylabel(\"\")\n",
    "\n",
    "fig.suptitle(\"Parity gap mismatch: Interview vs Consequence\", y=1.04)\n",
    "fig.tight_layout()\n",
    "plt.show()"
   ]
  },
  {
   "cell_type": "markdown",
   "id": "090f68d8",
   "metadata": {},
   "source": [
    "<div class=\"alert alert-info\">\n",
    "<b>Insight:</b>\n",
    "\n",
    "* “No gap” = the two coded values are the same, so the difference is 0. It does not mean “good” or “no problem”; it only means mental and physical are judged equally on that question. So “No gap” can be equally positive (both safe/comfortable) or equally negative (both risky/reluctant).\n",
    "\n",
    "* Overall agreement (~64%)\n",
    "    * Diagonal cells = agreement between the two framings. You have 725 (“No gap/No gap”) + 78 (“Mental worse/Mental worse”) = 803 of 1,259 → 63.8% agreement. Almost no one says “Physical safer” in either item (n≈3–8).\n",
    "\n",
    "* Biggest mismatch: “No gap” (interview) → “Mental worse” (consequence)\n",
    "    \n",
    "    * The cell No gap (interview) × Mental worse (consequence) has 365 respondents—33.3% of that row and ~29% of the whole sample.\n",
    "    \n",
    "        * Interpretation: many people say they’d be equally willing to discuss mental vs physical in an interview, yet they still believe discussing mental health carries worse consequences.\n",
    "\n",
    "* When interview says “Mental worse,” consequence is split\n",
    "    \n",
    "    * For the “Mental worse” interview row, the consequence column splits about 50/50 between No gap (80, 49.7%) and Mental worse (78, 48.4%).\n",
    "    \n",
    "        * Interpretation: reluctance to talk about mental health doesn’t always come with a belief that consequences are worse—it’s related, but not the same construct.\n",
    "\n",
    "* “Physical safer” is negligible\n",
    "    * Counts are tiny (row totals 3–8). It’s safe to treat “Physical safer” as a very rare view; cluster it with “No gap” or flag as sparse when modeling.\n",
    "\n",
    "</div>"
   ]
  }
 ],
 "metadata": {
  "kernelspec": {
   "display_name": "Python 3",
   "language": "python",
   "name": "python3"
  },
  "language_info": {
   "codemirror_mode": {
    "name": "ipython",
    "version": 3
   },
   "file_extension": ".py",
   "mimetype": "text/x-python",
   "name": "python",
   "nbconvert_exporter": "python",
   "pygments_lexer": "ipython3",
   "version": "3.12.4"
  }
 },
 "nbformat": 4,
 "nbformat_minor": 5
}
